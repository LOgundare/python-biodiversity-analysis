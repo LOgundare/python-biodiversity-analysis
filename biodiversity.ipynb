{
 "cells": [
  {
   "cell_type": "markdown",
   "metadata": {},
   "source": [
    "# Biodiversity in National Parks\n",
    "**Author**: Lade Ogundare **Date**: 2025-07-15\n",
    "\n",
    "## Introduction\n",
    "\n",
    "#### Overview:\n",
    "This project aims to analyze biodiversity data from the U.S. National Parks Service to understand the conservation status of species across different parks. I will be using two datasets provided by [Codecademy.com](https://codecademy.com):\n",
    "* **species_info.csv** - *species details and conservation status.*\n",
    "* **observations.csv** - *recorded sightings from the past 7 days.*\n",
    "\n",
    "The goal is to identify trends in endangered species and explore broader paterns of ecological health.\n",
    "\n"
   ]
  },
  {
   "cell_type": "markdown",
   "metadata": {},
   "source": [
    "## Project Scope\n",
    "\n",
    "#### Objectives: \n",
    "* Conduct end-to-end data analysis using Python and Jupyter Notebook.\n",
    "* Clean, organize, and visualize biodiversity data.\n",
    "* Identify patterns and trends in species diversity and conservation status.\n",
    "* Communicate findings through coding and visualizations.\n",
    "* Develop a portfolio-ready project demonstrating data analysis workflow.\n",
    "\n",
    "#### Key Questions:\n",
    "1. What is the distribution of species across different national parks?\n",
    "2. Which species are most commonly observed in each parks?\n",
    "3. Which categories of species are most at risk of endangerment?\n",
    "4. Which national park has the highest number of endangered or threatened species?\n",
    "5. Are the differences between species and their conservation status significant?\n",
    "\n",
    "#### Analysis Workflow:\n",
    "1. **Project Scoping:** Define the goals, data requirements, and questions to explore.\n",
    "2. **Data Setup:** Load and inspect species_info.csv and observations.csv.\n",
    "3. **Data Exploration:** Summarize key statistics and explore trends in conservation status.\n",
    "4. **Analysis & Visualization:** Use Python libraries (pandas, matplotlib, seaborn) to generate plots and answer the key questions.\n",
    "5. **Data Cleaning:** Handle missing values, filter relevant columns, and prepare for analysis.\n",
    "6. **Conclusion & Reporting:** Summarize and interpret findings."
   ]
  },
  {
   "cell_type": "markdown",
   "metadata": {},
   "source": [
    "## Data Setup"
   ]
  },
  {
   "cell_type": "code",
   "execution_count": 119,
   "metadata": {},
   "outputs": [],
   "source": [
    "# import modules\n",
    "\n",
    "import pandas as pd\n",
    "import numpy as np\n",
    "\n",
    "%matplotlib inline\n",
    "import matplotlib.pyplot as plt\n",
    "import seaborn as sns"
   ]
  },
  {
   "cell_type": "code",
   "execution_count": 120,
   "metadata": {},
   "outputs": [
    {
     "name": "stdout",
     "output_type": "stream",
     "text": [
      "                        scientific_name                            park_name  \\\n",
      "0                    Vicia benghalensis  Great Smoky Mountains National Park   \n",
      "1                        Neovison vison  Great Smoky Mountains National Park   \n",
      "2                     Prunus subcordata               Yosemite National Park   \n",
      "3                  Abutilon theophrasti                  Bryce National Park   \n",
      "4              Githopsis specularioides  Great Smoky Mountains National Park   \n",
      "5     Elymus virginicus var. virginicus               Yosemite National Park   \n",
      "6                      Spizella pusilla            Yellowstone National Park   \n",
      "7                     Elymus multisetus  Great Smoky Mountains National Park   \n",
      "8                Lysimachia quadrifolia               Yosemite National Park   \n",
      "9            Diphyscium cumberlandianum            Yellowstone National Park   \n",
      "10  Ludwigia peploides ssp. glabrescens                  Bryce National Park   \n",
      "11                Cistothorus platensis                  Bryce National Park   \n",
      "12         Setaria viridis var. viridis                  Bryce National Park   \n",
      "13                    Arabis davidsonii            Yellowstone National Park   \n",
      "14                    Fabronia ciliaris  Great Smoky Mountains National Park   \n",
      "15                        Lunaria annua  Great Smoky Mountains National Park   \n",
      "16                      Quercus bicolor               Yosemite National Park   \n",
      "17                  Muhlenbergia rigens               Yosemite National Park   \n",
      "18          Rubus idaeus ssp. strigosus               Yosemite National Park   \n",
      "19                  Polymnia canadensis  Great Smoky Mountains National Park   \n",
      "\n",
      "    observations  \n",
      "0             68  \n",
      "1             77  \n",
      "2            138  \n",
      "3             84  \n",
      "4             85  \n",
      "5            112  \n",
      "6            228  \n",
      "7             39  \n",
      "8            168  \n",
      "9            250  \n",
      "10           103  \n",
      "11           114  \n",
      "12           101  \n",
      "13           279  \n",
      "14            72  \n",
      "15            65  \n",
      "16           143  \n",
      "17           165  \n",
      "18           150  \n",
      "19            80  \n",
      "   category                scientific_name  \\\n",
      "0    Mammal  Clethrionomys gapperi gapperi   \n",
      "1    Mammal                      Bos bison   \n",
      "2    Mammal                     Bos taurus   \n",
      "3    Mammal                     Ovis aries   \n",
      "4    Mammal                 Cervus elaphus   \n",
      "5    Mammal         Odocoileus virginianus   \n",
      "6    Mammal                     Sus scrofa   \n",
      "7    Mammal                  Canis latrans   \n",
      "8    Mammal                    Canis lupus   \n",
      "9    Mammal                    Canis rufus   \n",
      "10   Mammal       Urocyon cinereoargenteus   \n",
      "11   Mammal                   Vulpes fulva   \n",
      "12   Mammal                  Vulpes vulpes   \n",
      "13   Mammal                 Felis concolor   \n",
      "14   Mammal               Felis silvestris   \n",
      "15   Mammal                     Lynx rufus   \n",
      "16   Mammal                  Puma concolor   \n",
      "17   Mammal              Mephitis mephitis   \n",
      "18   Mammal             Spilogale putorius   \n",
      "19   Mammal              Lontra canadensis   \n",
      "\n",
      "                                         common_names conservation_status  \n",
      "0                            Gapper's Red-Backed Vole                 NaN  \n",
      "1                               American Bison, Bison                 NaN  \n",
      "2   Aurochs, Aurochs, Domestic Cattle (Feral), Dom...                 NaN  \n",
      "3   Domestic Sheep, Mouflon, Red Sheep, Sheep (Feral)                 NaN  \n",
      "4                                       Wapiti Or Elk                 NaN  \n",
      "5                                   White-Tailed Deer                 NaN  \n",
      "6                                 Feral Hog, Wild Pig                 NaN  \n",
      "7                                              Coyote  Species of Concern  \n",
      "8                                           Gray Wolf          Endangered  \n",
      "9                                            Red Wolf          Endangered  \n",
      "10                          Common Gray Fox, Gray Fox                 NaN  \n",
      "11          Black Fox, Cross Fox, Red Fox, Silver Fox                 NaN  \n",
      "12                                            Red Fox                 NaN  \n",
      "13                                      Mountain Lion                 NaN  \n",
      "14                                  Wild Cat, Wildcat                 NaN  \n",
      "15                                             Bobcat                 NaN  \n",
      "16                            Panther (Mountain Lion)                 NaN  \n",
      "17                                      Striped Skunk                 NaN  \n",
      "18                              Eastern Spotted Skunk                 NaN  \n",
      "19                                        River Otter                 NaN  \n",
      "Shape of the observation dataset: (23296, 3)\n",
      "Shape of the species dataset: (5824, 4)\n"
     ]
    }
   ],
   "source": [
    "# load and inspect datasets\n",
    "observations = pd.read_csv('observations.csv', encoding='utf-8')\n",
    "species = pd.read_csv('species_info.csv', encoding='utf-8')\n",
    "\n",
    "print(observations.head(20))\n",
    "print(species.head(20))\n",
    "\n",
    "print(f'Shape of the observation dataset: {observations.shape}')\n",
    "print(f'Shape of the species dataset: {species.shape}')"
   ]
  },
  {
   "cell_type": "markdown",
   "metadata": {},
   "source": [
    "## Exploratory Analysis"
   ]
  },
  {
   "cell_type": "markdown",
   "metadata": {},
   "source": [
    "### Data Cleaning\n",
    "\n",
    "Before performing any analysis, it was important to ensure the dataset was clean, consistent, and free of structural issues. This section will:\n",
    "* Check for missing values across both datasets. \n",
    "* Identify and verify duplicate rows in both dataset.\n",
    "* Remove any duplicate rows to avoid data skew.\n",
    "\n",
    "These cleaning steps ensure that both datasets are consistent and ready for analysis before moving into deeper exploration."
   ]
  },
  {
   "cell_type": "code",
   "execution_count": 123,
   "metadata": {},
   "outputs": [
    {
     "name": "stdout",
     "output_type": "stream",
     "text": [
      "data types for the observation dataset:\n",
      "scientific_name    object\n",
      "park_name          object\n",
      "observations        int64\n",
      "dtype: object\n",
      "data types for the species dataset:\n",
      "category               object\n",
      "scientific_name        object\n",
      "common_names           object\n",
      "conservation_status    object\n",
      "dtype: object\n"
     ]
    }
   ],
   "source": [
    "# identify data types\n",
    "\n",
    "print(f'data types for the observation dataset:\\n{observations.dtypes}')\n",
    "print(f'data types for the species dataset:\\n{species.dtypes}')"
   ]
  },
  {
   "cell_type": "code",
   "execution_count": 124,
   "metadata": {},
   "outputs": [
    {
     "name": "stdout",
     "output_type": "stream",
     "text": [
      "Missing values for observation:\n",
      "scientific_name    0\n",
      "park_name          0\n",
      "observations       0\n",
      "dtype: int64\n",
      "Missing values for species:\n",
      "category                  0\n",
      "scientific_name           0\n",
      "common_names              0\n",
      "conservation_status    5633\n",
      "dtype: int64\n"
     ]
    }
   ],
   "source": [
    "# check if we have any missing or null values\n",
    "print(f'Missing values for observation:\\n{observations.isna().sum()}')\n",
    "print(f'Missing values for species:\\n{species.isna().sum()}')"
   ]
  },
  {
   "cell_type": "markdown",
   "metadata": {},
   "source": [
    "*From the preliminary analysis, I observed that the observations dataset contains 23,296 rows and 3 columns, while the species dataset contains 5,824 rows and 4 columns. The observations table is clean, with no missing or null values.*\n",
    "\n",
    "_However, the conservation_status column in the species dataset has 5,633 missing values, meaning nearly the entire column is null. To better understand the nature of this missingness, I will proceed to count the unique values in the column and assess whether they provide any meaningful insight into why so many values are missing._"
   ]
  },
  {
   "cell_type": "code",
   "execution_count": 126,
   "metadata": {},
   "outputs": [
    {
     "name": "stdout",
     "output_type": "stream",
     "text": [
      "Unique value count for observations table:\n",
      "scientific_name    5541\n",
      "park_name             4\n",
      "observations        304\n",
      "dtype: int64\n",
      "Unique value count for species table: \n",
      "category                  7\n",
      "scientific_name        5541\n",
      "common_names           5504\n",
      "conservation_status       4\n",
      "dtype: int64\n"
     ]
    }
   ],
   "source": [
    "# count unique data types for both observations and species\n",
    "print(f'Unique value count for observations table:\\n{observations.nunique()}')\n",
    "print(f'Unique value count for species table: \\n{species.nunique()}')"
   ]
  },
  {
   "cell_type": "markdown",
   "metadata": {},
   "source": [
    "_I’ve successfully identified the unique value counts for all columns in both datasets. Notably, the conservation_status column contains 4 unique non-null values, which suggests a limited range of conservation designations. To gain further insight into the high volume of missing entries, I will proceed to examine the actual unique values in this column._\n",
    "\n",
    "_In addition, I will identify the distinct national parks listed in the observations dataset and the unique species categories present in the species dataset. This will help me identify the various park locations and the diversity of biological classifications represented in the data._"
   ]
  },
  {
   "cell_type": "code",
   "execution_count": 128,
   "metadata": {},
   "outputs": [
    {
     "name": "stdout",
     "output_type": "stream",
     "text": [
      "Unique conservation_status values:\n",
      "[nan 'Species of Concern' 'Endangered' 'Threatened' 'In Recovery']\n",
      "Park locations:\n",
      "['Great Smoky Mountains National Park' 'Yosemite National Park'\n",
      " 'Bryce National Park' 'Yellowstone National Park']\n",
      "Biological classifications:\n",
      "['Mammal' 'Bird' 'Reptile' 'Amphibian' 'Fish' 'Vascular Plant'\n",
      " 'Nonvascular Plant']\n"
     ]
    }
   ],
   "source": [
    "# identify unique categories in conservation_status, park_name and category columns\n",
    "print(f'Unique conservation_status values:\\n{species['conservation_status'].unique()}')\n",
    "print(f'Park locations:\\n{observations['park_name'].unique()}')\n",
    "print(f'Biological classifications:\\n{species['category'].unique()}')"
   ]
  },
  {
   "cell_type": "markdown",
   "metadata": {},
   "source": [
    "_From the result above, it is reasonable to infer that species with NaN values in the conservation_status column do not have a special conservation designation. These entries likely represent species that are not currently under any form of protection or monitoring._\n",
    "\n",
    "_For improved clarity and consistency in the analysis, I will replace the missing values with the label “No Intervention” to explicitly reflect this status._"
   ]
  },
  {
   "cell_type": "code",
   "execution_count": 130,
   "metadata": {},
   "outputs": [
    {
     "name": "stdout",
     "output_type": "stream",
     "text": [
      "Updated conservation status:\n",
      "['No Intervention' 'Species of Concern' 'Endangered' 'Threatened'\n",
      " 'In Recovery']\n"
     ]
    }
   ],
   "source": [
    "# replace missing conservation_status values with 'No Intervention'\n",
    "species['conservation_status'] = species['conservation_status'].fillna('No Intervention')\n",
    "\n",
    "# check unique values for conservation_status to ensure the null values were replaced\n",
    "print(f'Updated conservation status:\\n{species['conservation_status'].unique()}')"
   ]
  },
  {
   "cell_type": "code",
   "execution_count": 131,
   "metadata": {},
   "outputs": [
    {
     "name": "stdout",
     "output_type": "stream",
     "text": [
      "Number of duplicate roles in the observation dataset:\n",
      "15\n",
      "Number of duplicate roles in the species datset:\n",
      "0\n"
     ]
    }
   ],
   "source": [
    "# check for duplicate data in both datasets\n",
    "print(f'Number of duplicate roles in the observation dataset:\\n{observations.duplicated().sum()}')\n",
    "print(f'Number of duplicate roles in the species datset:\\n{species.duplicated().sum()}')"
   ]
  },
  {
   "cell_type": "markdown",
   "metadata": {},
   "source": [
    "_I have identified 15 duplicate rows in the observations dataset. Before deciding whether to drop them, I will examine these rows more closely to verify whether they are true duplicates (i.e., identical in all columns) or whether they contain subtle variations that might be important for analysis._"
   ]
  },
  {
   "cell_type": "code",
   "execution_count": 133,
   "metadata": {},
   "outputs": [
    {
     "name": "stdout",
     "output_type": "stream",
     "text": [
      "Are all columns exact duplicates? False\n",
      "Total number of duplicate rows in observation:\n",
      "30\n",
      "Duplicate occurences:\n",
      "              scientific_name                            park_name  \\\n",
      "513             Arctium minus               Yosemite National Park   \n",
      "10674           Arctium minus               Yosemite National Park   \n",
      "4527   Botrychium virginianum            Yellowstone National Park   \n",
      "20294  Botrychium virginianum            Yellowstone National Park   \n",
      "14142       Cichorium intybus            Yellowstone National Park   \n",
      "19392       Cichorium intybus            Yellowstone National Park   \n",
      "1454   Echinochloa crus-galli  Great Smoky Mountains National Park   \n",
      "7263   Echinochloa crus-galli  Great Smoky Mountains National Park   \n",
      "1020     Eleocharis palustris  Great Smoky Mountains National Park   \n",
      "12381    Eleocharis palustris  Great Smoky Mountains National Park   \n",
      "1032      Hesperis matronalis                  Bryce National Park   \n",
      "13372     Hesperis matronalis                  Bryce National Park   \n",
      "4178     Monotropa hypopithys  Great Smoky Mountains National Park   \n",
      "20820    Monotropa hypopithys  Great Smoky Mountains National Park   \n",
      "365            Plantago major  Great Smoky Mountains National Park   \n",
      "10038          Plantago major  Great Smoky Mountains National Park   \n",
      "13097           Poa compressa  Great Smoky Mountains National Park   \n",
      "18141           Poa compressa  Great Smoky Mountains National Park   \n",
      "10809    Potentilla norvegica               Yosemite National Park   \n",
      "17378    Potentilla norvegica               Yosemite National Park   \n",
      "7219        Prunella vulgaris  Great Smoky Mountains National Park   \n",
      "16741       Prunella vulgaris  Great Smoky Mountains National Park   \n",
      "19575            Salix exigua               Yosemite National Park   \n",
      "22698            Salix exigua               Yosemite National Park   \n",
      "627        Spilogale putorius            Yellowstone National Park   \n",
      "17577      Spilogale putorius            Yellowstone National Park   \n",
      "1635    Streptopelia decaocto            Yellowstone National Park   \n",
      "8710    Streptopelia decaocto            Yellowstone National Park   \n",
      "18435     Trifolium campestre            Yellowstone National Park   \n",
      "21151     Trifolium campestre            Yellowstone National Park   \n",
      "\n",
      "       observations  \n",
      "513             162  \n",
      "10674           162  \n",
      "4527            232  \n",
      "20294           232  \n",
      "14142           266  \n",
      "19392           266  \n",
      "1454             62  \n",
      "7263             62  \n",
      "1020             62  \n",
      "12381            62  \n",
      "1032            124  \n",
      "13372           124  \n",
      "4178             73  \n",
      "20820            73  \n",
      "365              90  \n",
      "10038            90  \n",
      "13097            80  \n",
      "18141            80  \n",
      "10809           148  \n",
      "17378           148  \n",
      "7219             75  \n",
      "16741            75  \n",
      "19575           186  \n",
      "22698           186  \n",
      "627             256  \n",
      "17577           256  \n",
      "1635            255  \n",
      "8710            255  \n",
      "18435           239  \n",
      "21151           239  \n"
     ]
    }
   ],
   "source": [
    "# check if all duplicates are exact matches\n",
    "print(f'Are all columns exact duplicates? {observations.duplicated().all()}')\n",
    "\n",
    "# check for the total number of duplicated rows (including first instances)\n",
    "print(f'Total number of duplicate rows in observation:\\n{observations.duplicated(keep=False).sum()}')\n",
    "\n",
    "# show all duplicated rows in the observation dataset\n",
    "print(f'Duplicate occurences:\\n{observations[observations.duplicated(keep=False)].sort_values(by=observations.columns.tolist())}')"
   ]
  },
  {
   "cell_type": "markdown",
   "metadata": {},
   "source": [
    "_I have confirmed that there are indeed 15 duplicate rows in the observation datset. I will proceed to drop the redundant rows to avoid skewing the analysis_"
   ]
  },
  {
   "cell_type": "code",
   "execution_count": 135,
   "metadata": {},
   "outputs": [],
   "source": [
    "# drop duplicate rows in the observation datset\n",
    "observations = observations.drop_duplicates()"
   ]
  },
  {
   "cell_type": "code",
   "execution_count": 136,
   "metadata": {},
   "outputs": [
    {
     "name": "stdout",
     "output_type": "stream",
     "text": [
      "Number of duplicates in observations dataset: 0\n"
     ]
    }
   ],
   "source": [
    "# confirm there are no other duplicates in the observation dataset\n",
    "print(f'Number of duplicates in observations dataset: {observations.duplicated().sum()}')"
   ]
  },
  {
   "cell_type": "markdown",
   "metadata": {},
   "source": [
    "### Full analysis & Visualization\n",
    "\n",
    "Now that the dataset has been cleaned and all duplicates have been dropped. This section will focus on exploring the data in depth to answer key questions posed earlier. Through a combination of grouping, aggregation, and visualization techniques, I aim to uncover meaningful patterns and insights related to biodiversity and conservation efforts across national parks.\n",
    "\n",
    "I'll start off by merging both datasets. "
   ]
  },
  {
   "cell_type": "code",
   "execution_count": 138,
   "metadata": {},
   "outputs": [
    {
     "data": {
      "text/plain": [
       "True"
      ]
     },
     "execution_count": 138,
     "metadata": {},
     "output_type": "execute_result"
    }
   ],
   "source": [
    "# check if merging both tables on scientific_name would introduce any null values into the new dataset\n",
    "set(observations['scientific_name'].unique()) == set(species['scientific_name'].unique())"
   ]
  },
  {
   "cell_type": "code",
   "execution_count": 139,
   "metadata": {},
   "outputs": [
    {
     "name": "stdout",
     "output_type": "stream",
     "text": [
      "                        scientific_name                            park_name  \\\n",
      "0                    Vicia benghalensis  Great Smoky Mountains National Park   \n",
      "1                        Neovison vison  Great Smoky Mountains National Park   \n",
      "2                     Prunus subcordata               Yosemite National Park   \n",
      "3                  Abutilon theophrasti                  Bryce National Park   \n",
      "4              Githopsis specularioides  Great Smoky Mountains National Park   \n",
      "5     Elymus virginicus var. virginicus               Yosemite National Park   \n",
      "6                      Spizella pusilla            Yellowstone National Park   \n",
      "7                     Elymus multisetus  Great Smoky Mountains National Park   \n",
      "8                Lysimachia quadrifolia               Yosemite National Park   \n",
      "9            Diphyscium cumberlandianum            Yellowstone National Park   \n",
      "10  Ludwigia peploides ssp. glabrescens                  Bryce National Park   \n",
      "11                Cistothorus platensis                  Bryce National Park   \n",
      "12         Setaria viridis var. viridis                  Bryce National Park   \n",
      "13                    Arabis davidsonii            Yellowstone National Park   \n",
      "14                    Fabronia ciliaris  Great Smoky Mountains National Park   \n",
      "15                        Lunaria annua  Great Smoky Mountains National Park   \n",
      "16                        Lunaria annua  Great Smoky Mountains National Park   \n",
      "17                      Quercus bicolor               Yosemite National Park   \n",
      "18                  Muhlenbergia rigens               Yosemite National Park   \n",
      "19          Rubus idaeus ssp. strigosus               Yosemite National Park   \n",
      "\n",
      "    observations           category                        common_names  \\\n",
      "0             68     Vascular Plant  Purple Vetch, Reddish Tufted Vetch   \n",
      "1             77             Mammal                       American Mink   \n",
      "2            138     Vascular Plant                        Klamath Plum   \n",
      "3             84     Vascular Plant                          Velvetleaf   \n",
      "4             85     Vascular Plant                      Common Bluecup   \n",
      "5            112     Vascular Plant                    Virginia Wildrye   \n",
      "6            228               Bird                       Field Sparrow   \n",
      "7             39     Vascular Plant      Big Squirreltail, Big Wild Rye   \n",
      "8            168     Vascular Plant                 Whorled Loosestrife   \n",
      "9            250  Nonvascular Plant          Cumberland Diphyscium Moss   \n",
      "10           103     Vascular Plant             Floating Primrosewillow   \n",
      "11           114               Bird                          Sedge Wren   \n",
      "12           101     Vascular Plant                  Green Bristlegrass   \n",
      "13           279     Vascular Plant                Davidson's Rockcress   \n",
      "14            72  Nonvascular Plant                       Fabronia Moss   \n",
      "15            65     Vascular Plant          Annual Honesty, Moneyplant   \n",
      "16            65     Vascular Plant                      Annual Honesty   \n",
      "17           143     Vascular Plant                     Swamp White Oak   \n",
      "18           165     Vascular Plant               Deer Muhly, Deergrass   \n",
      "19           150     Vascular Plant              American Red Raspberry   \n",
      "\n",
      "   conservation_status  \n",
      "0      No Intervention  \n",
      "1      No Intervention  \n",
      "2      No Intervention  \n",
      "3      No Intervention  \n",
      "4      No Intervention  \n",
      "5      No Intervention  \n",
      "6      No Intervention  \n",
      "7      No Intervention  \n",
      "8      No Intervention  \n",
      "9      No Intervention  \n",
      "10     No Intervention  \n",
      "11     No Intervention  \n",
      "12     No Intervention  \n",
      "13     No Intervention  \n",
      "14     No Intervention  \n",
      "15     No Intervention  \n",
      "16     No Intervention  \n",
      "17     No Intervention  \n",
      "18     No Intervention  \n",
      "19     No Intervention  \n",
      "Do we have any null data? False\n"
     ]
    }
   ],
   "source": [
    "# merge observations and species \n",
    "biodiversity_data = pd.merge(observations, species, on='scientific_name', how='left')\n",
    "\n",
    "# inspect merged data and check for nulls\n",
    "print(biodiversity_data.head(20))\n",
    "print(f'Do we have any null data? {biodiversity_data.isna().any().any()}')"
   ]
  },
  {
   "cell_type": "code",
   "execution_count": 140,
   "metadata": {},
   "outputs": [
    {
     "name": "stdout",
     "output_type": "stream",
     "text": [
      "proportion of specie distribution across parks:\n",
      "category                             Amphibian      Bird      Fish    Mammal  \\\n",
      "park_name                                                                      \n",
      "Bryce National Park                     0.3203  2.308504  0.511699  1.171829   \n",
      "Great Smoky Mountains National Park     0.3203  2.308504  0.511699  1.171829   \n",
      "Yellowstone National Park               0.3203  2.296785  0.511699  1.164017   \n",
      "Yosemite National Park                  0.3203  2.308504  0.511699  1.171829   \n",
      "\n",
      "category                             Nonvascular Plant   Reptile  \\\n",
      "park_name                                                          \n",
      "Bryce National Park                            1.30073  0.316394   \n",
      "Great Smoky Mountains National Park            1.30073  0.316394   \n",
      "Yellowstone National Park                      1.30073  0.316394   \n",
      "Yosemite National Park                         1.30073  0.316394   \n",
      "\n",
      "category                             Vascular Plant  \n",
      "park_name                                            \n",
      "Bryce National Park                       19.093004  \n",
      "Great Smoky Mountains National Park       19.053943  \n",
      "Yellowstone National Park                 19.077380  \n",
      "Yosemite National Park                    19.077380  \n"
     ]
    }
   ],
   "source": [
    "# distribution of species across different national parks\n",
    "specie_distribution_frequency = pd.crosstab(biodiversity_data['park_name'], biodiversity_data['category'])\n",
    "specie_distribution_proportion = (specie_distribution_frequency/len(biodiversity_data)) * 100\n",
    "\n",
    "print(f'proportion of specie distribution across parks:\\n{specie_distribution_proportion}') "
   ]
  },
  {
   "cell_type": "code",
   "execution_count": 141,
   "metadata": {},
   "outputs": [
    {
     "data": {
      "image/png": "[encoded data removed]",
      "text/plain": [
       "<Figure size 1200x600 with 1 Axes>"
      ]
     },
     "metadata": {},
     "output_type": "display_data"
    }
   ],
   "source": [
    "# plot the proportion on stacked bar chart\n",
    "\n",
    "specie_distribution_proportion.plot(\n",
    "    kind='bar',\n",
    "    stacked=True,\n",
    "    figsize=(12, 6),\n",
    "    colormap='tab20'  # You can use others like 'Set3', 'Paired', etc.\n",
    ")\n",
    "\n",
    "plt.title(\"Species Category Composition per Park\")\n",
    "plt.xlabel(\"National Park\")\n",
    "plt.ylabel(\"Proportion of Observed Species\")\n",
    "plt.legend(title='Species Category', bbox_to_anchor=(1.05, 1), loc='upper left')\n",
    "plt.tight_layout()\n",
    "plt.show()"
   ]
  },
  {
   "cell_type": "code",
   "execution_count": 142,
   "metadata": {},
   "outputs": [
    {
     "name": "stdout",
     "output_type": "stream",
     "text": [
      "Overall proportion of species:\n",
      "category\n",
      "Amphibian             1.28\n",
      "Bird                  9.22\n",
      "Fish                  2.05\n",
      "Mammal                4.68\n",
      "Nonvascular Plant     5.20\n",
      "Reptile               1.27\n",
      "Vascular Plant       76.30\n",
      "dtype: float64\n"
     ]
    }
   ],
   "source": [
    "# calculate percentage of specie category overall\n",
    "print(f'Overall proportion of species:\\n{specie_distribution_proportion.sum().round(2)}')"
   ]
  },
  {
   "cell_type": "markdown",
   "metadata": {},
   "source": [
    "_The species categories appear to be relatively evenly distributed across the four national parks. In each park, vascular plants consistently make up the largest proportion of observed species — accounting for roughly 19% of each park’s biodiversity records and approximately 76% of total observations across all parks. Birds follow as the second most observed group, representing around 9% of both individual park biodiversity and the overall dataset. At the lower end, amphibians and reptiles make up only 0.3% of each park’s species records and about 1% of total observations._"
   ]
  },
  {
   "cell_type": "code",
   "execution_count": 144,
   "metadata": {},
   "outputs": [
    {
     "data": {
      "text/plain": [
       "park_name                            category         \n",
       "Bryce National Park                  Amphibian               7542\n",
       "                                     Bird                   58590\n",
       "                                     Fish                   12823\n",
       "                                     Mammal                 28830\n",
       "                                     Nonvascular Plant      32992\n",
       "                                     Reptile                 8141\n",
       "                                     Vascular Plant        484125\n",
       "Great Smoky Mountains National Park  Amphibian               5876\n",
       "                                     Bird                   42869\n",
       "                                     Fish                    9482\n",
       "                                     Mammal                 21056\n",
       "                                     Nonvascular Plant      24857\n",
       "                                     Reptile                 5841\n",
       "                                     Vascular Plant        363998\n",
       "Yellowstone National Park            Amphibian              19937\n",
       "                                     Bird                  143535\n",
       "                                     Fish                   31459\n",
       "                                     Mammal                 70189\n",
       "                                     Nonvascular Plant      83021\n",
       "                                     Reptile                20061\n",
       "                                     Vascular Plant       1216688\n",
       "Yosemite National Park               Amphibian              11713\n",
       "                                     Bird                   86612\n",
       "                                     Fish                   19137\n",
       "                                     Mammal                 42533\n",
       "                                     Nonvascular Plant      49783\n",
       "                                     Reptile                11779\n",
       "                                     Vascular Plant        726903\n",
       "Name: observations, dtype: int64"
      ]
     },
     "execution_count": 144,
     "metadata": {},
     "output_type": "execute_result"
    }
   ],
   "source": [
    "# check for how many observations exist per category\n",
    "biodiversity_data.groupby(['park_name', 'category'])['observations'].sum()"
   ]
  },
  {
   "cell_type": "code",
   "execution_count": 145,
   "metadata": {},
   "outputs": [
    {
     "name": "stdout",
     "output_type": "stream",
     "text": [
      "            scientific_name                            park_name  \\\n",
      "0        Vicia benghalensis  Great Smoky Mountains National Park   \n",
      "1            Neovison vison  Great Smoky Mountains National Park   \n",
      "2         Prunus subcordata               Yosemite National Park   \n",
      "3      Abutilon theophrasti                  Bryce National Park   \n",
      "4  Githopsis specularioides  Great Smoky Mountains National Park   \n",
      "\n",
      "   observations        category                        common_names  \\\n",
      "0            68  Vascular Plant  Purple Vetch, Reddish Tufted Vetch   \n",
      "1            77          Mammal                       American Mink   \n",
      "2           138  Vascular Plant                        Klamath Plum   \n",
      "3            84  Vascular Plant                          Velvetleaf   \n",
      "4            85  Vascular Plant                      Common Bluecup   \n",
      "\n",
      "  conservation_status   risk_level  \n",
      "0     No Intervention  Not At Risk  \n",
      "1     No Intervention  Not At Risk  \n",
      "2     No Intervention  Not At Risk  \n",
      "3     No Intervention  Not At Risk  \n",
      "4     No Intervention  Not At Risk  \n",
      "Number of protected species per category:\n",
      "park_name                            category         \n",
      "Bryce National Park                  Amphibian              79\n",
      "                                     Bird                  488\n",
      "                                     Fish                  125\n",
      "                                     Mammal                176\n",
      "                                     Nonvascular Plant     333\n",
      "                                     Reptile                78\n",
      "                                     Vascular Plant       4262\n",
      "Great Smoky Mountains National Park  Amphibian              79\n",
      "                                     Bird                  488\n",
      "                                     Fish                  125\n",
      "                                     Mammal                176\n",
      "                                     Nonvascular Plant     333\n",
      "                                     Reptile                78\n",
      "                                     Vascular Plant       4262\n",
      "Yellowstone National Park            Amphibian              79\n",
      "                                     Bird                  488\n",
      "                                     Fish                  125\n",
      "                                     Mammal                176\n",
      "                                     Nonvascular Plant     333\n",
      "                                     Reptile                78\n",
      "                                     Vascular Plant       4262\n",
      "Yosemite National Park               Amphibian              79\n",
      "                                     Bird                  488\n",
      "                                     Fish                  125\n",
      "                                     Mammal                176\n",
      "                                     Nonvascular Plant     333\n",
      "                                     Reptile                78\n",
      "                                     Vascular Plant       4262\n",
      "Name: scientific_name, dtype: int64\n"
     ]
    }
   ],
   "source": [
    "# identify and label at risk species\n",
    "biodiversity_data['risk_level'] = biodiversity_data['conservation_status'].apply(\n",
    "    lambda x: 'At Risk' if x in ['Endangered', 'Threatened', 'Species of Concern'] else 'Not At Risk'\n",
    ")\n",
    "print(biodiversity_data.head())\n",
    "\n",
    "# most endangered species per park and category\n",
    "print(f'Number of protected species per category:\\n{biodiversity_data.groupby(\n",
    "    ['park_name', 'category'])['scientific_name'].nunique()}'\n",
    "     )\n"
   ]
  },
  {
   "cell_type": "code",
   "execution_count": 146,
   "metadata": {},
   "outputs": [
    {
     "data": {
      "image/png": "[encoded data removed]",
      "text/plain": [
       "<Figure size 1000x600 with 2 Axes>"
      ]
     },
     "metadata": {},
     "output_type": "display_data"
    }
   ],
   "source": [
    "heatmap_data = biodiversity_data.groupby(\n",
    "    ['park_name', 'category'])['scientific_name'].nunique().unstack(fill_value=0)\n",
    "\n",
    "plt.figure(figsize=(10,6))\n",
    "sns.heatmap(heatmap_data, cmap='YlOrRd', annot=True, fmt='d')\n",
    "plt.title('Number of At-Risk Species per Park and Category')\n",
    "plt.xlabel('Species Category')\n",
    "plt.ylabel('Park Name')\n",
    "plt.tight_layout()\n",
    "plt.show()"
   ]
  },
  {
   "cell_type": "code",
   "execution_count": 147,
   "metadata": {},
   "outputs": [
    {
     "name": "stdout",
     "output_type": "stream",
     "text": [
      "category\n",
      "Bird                 336\n",
      "Mammal               220\n",
      "Vascular Plant       184\n",
      "Fish                  48\n",
      "Amphibian             28\n",
      "Reptile               20\n",
      "Nonvascular Plant     20\n",
      "Name: count, dtype: int64\n"
     ]
    }
   ],
   "source": [
    "# category with the highest endangered animals\n",
    "endangered_species = biodiversity_data[biodiversity_data['risk_level'] == 'At Risk']\n",
    "endangered_species_by_category = endangered_species['category'].value_counts()\n",
    "\n",
    "print(endangered_species_by_category.sort_values(ascending=False))\n"
   ]
  },
  {
   "cell_type": "code",
   "execution_count": 148,
   "metadata": {},
   "outputs": [
    {
     "name": "stdout",
     "output_type": "stream",
     "text": [
      "category  extracted_common_names\n",
      "Mammal    myotis                    92\n",
      "          bat                       44\n",
      "          wolf                      28\n",
      "Bird      osprey                    16\n",
      "          loon                      16\n",
      "                                    ..\n",
      "          pelican                    4\n",
      "          bluebird                   4\n",
      "          pigeon                     4\n",
      "          sandpiper                  4\n",
      "          phainopepla                4\n",
      "Length: 64, dtype: int64\n",
      "Most endangered specie is:\n",
      "category  extracted_common_names\n",
      "Mammal    myotis                    92\n",
      "dtype: int64\n"
     ]
    },
    {
     "name": "stderr",
     "output_type": "stream",
     "text": [
      "/var/folders/_q/3y5vyvtx3jb60d2y7wz72_pw0000gn/T/ipykernel_15822/3290271806.py:3: SettingWithCopyWarning: \n",
      "A value is trying to be set on a copy of a slice from a DataFrame.\n",
      "Try using .loc[row_indexer,col_indexer] = value instead\n",
      "\n",
      "See the caveats in the documentation: https://pandas.pydata.org/pandas-docs/stable/user_guide/indexing.html#returning-a-view-versus-a-copy\n",
      "  endangered_species_filtered['extracted_common_names'] = (\n"
     ]
    }
   ],
   "source": [
    "# filter endangered_species for Bird and Mammal categories and identify the name with the most amount of endangered species as well as the least amount\n",
    "endangered_species_filtered = endangered_species[endangered_species['category'].isin(['Bird', 'Mammal'])]\n",
    "endangered_species_filtered['extracted_common_names'] = (\n",
    "    endangered_species_filtered['common_names']\n",
    "    .str.lower()\n",
    "    .str.split()\n",
    "    .str[-1]\n",
    ")\n",
    "endangered_species_grouped = endangered_species_filtered.groupby(['category','extracted_common_names']).size().sort_values(ascending=False)\n",
    "\n",
    "print(endangered_species_grouped)\n",
    "print(f'Most endangered specie is:\\n{endangered_species_grouped.head(1)}')"
   ]
  },
  {
   "cell_type": "markdown",
   "metadata": {},
   "source": [
    "_The results show that the categories with the highest number of at-risk species are Bird, Mammal, and Vascular Plant. To identify commonly observed endangered species within each group, I extracted the last word from each species’ common name (e.g., “red fox” → “fox”). This allowed me to group related species under broader classifications._\n",
    "\n",
    "_Among mammals, bats appeared most frequently—particularly the myotis, which is a genus of bats. For birds, the most frequently observed endangered species was the osprey._\n",
    "\n",
    "_While this string-based method does not account for all naming variations, it provides a simplified and interpretable way to identify which species types are most at risk._\n"
   ]
  },
  {
   "cell_type": "code",
   "execution_count": 150,
   "metadata": {},
   "outputs": [
    {
     "name": "stdout",
     "output_type": "stream",
     "text": [
      "Chi-square statistic: 3130.22\n",
      "Degrees of freedom: 24\n",
      "P-value: 0.000\n",
      "There is a statistically significant relationship between species category and their conservation status.\n"
     ]
    }
   ],
   "source": [
    "# differences between species and their conservation status significant?\n",
    "species_contingency = pd.crosstab(biodiversity_data['category'], biodiversity_data['conservation_status'])\n",
    "\n",
    "from scipy.stats import chi2_contingency\n",
    "chi2, pval, dof, expected = chi2_contingency(species_contingency)\n",
    "print(f'Chi-square statistic: {chi2:.2f}')\n",
    "print(f'Degrees of freedom: {dof}')\n",
    "print(f'P-value: {pval:.3f}')\n",
    "\n",
    "if pval < 0.05:\n",
    "    print('There is a statistically significant relationship between species category and their conservation status.')\n",
    "else:\n",
    "    print('No statistically significant relationship found between species category and conservation status.')"
   ]
  },
  {
   "cell_type": "markdown",
   "metadata": {},
   "source": [
    "## Conclusion:"
   ]
  },
  {
   "cell_type": "markdown",
   "metadata": {},
   "source": [
    "This analysis explored biodiversity patterns across four U.S. national parks, focusing on species distribution, observation trends, and conservation risks.\n",
    "\n",
    "Species were relatively evenly distributed across all parks, with vascular plants consistently comprising the largest proportion of biodiversity records (~76%). When examining conservation status, **Birds**, **Mammals**, and **Vascular Plants** emerged as the most at-risk categories. Notably, **Yellowstone National Park** had the highest number of endangered or threatened species, largely due to its high volume of vascular plant observations.\n",
    "\n",
    "A chi-square test confirmed a **statistically significant relationship** between species category and conservation status (*p < 0.05*), suggesting that some groups face disproportionately higher conservation concerns.\n",
    "\n",
    "To simplify common name analysis, species names were reduced to their final word (e.g., “red fox” → “fox”) to identify general trends. While this method helped surface recurring patterns (like *bats* among mammals and *osprey* among birds), it also introduced limitations by grouping some distinct species together.\n",
    "\n",
    "**Ultimately, this project highlights the urgency of protecting vulnerable species and provides a foundation for future research into ecological patterns, risk management, and policy interventions across U.S. national parks.**"
   ]
  }
 ],
 "metadata": {
  "kernelspec": {
   "display_name": "Python [conda env:base] *",
   "language": "python",
   "name": "conda-base-py"
  },
  "language_info": {
   "codemirror_mode": {
    "name": "ipython",
    "version": 3
   },
   "file_extension": ".py",
   "mimetype": "text/x-python",
   "name": "python",
   "nbconvert_exporter": "python",
   "pygments_lexer": "ipython3",
   "version": "3.12.7"
  }
 },
 "nbformat": 4,
 "nbformat_minor": 4
}
